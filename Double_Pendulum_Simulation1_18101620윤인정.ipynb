{
  "nbformat": 4,
  "nbformat_minor": 0,
  "metadata": {
    "colab": {
      "name": "Untitled5.ipynb",
      "provenance": [],
      "authorship_tag": "ABX9TyNYYo5YWAxLS12H89QeKGGt",
      "include_colab_link": true
    },
    "kernelspec": {
      "name": "python3",
      "display_name": "Python 3"
    }
  },
  "cells": [
    {
      "cell_type": "markdown",
      "metadata": {
        "id": "view-in-github",
        "colab_type": "text"
      },
      "source": [
        "<a href=\"https://colab.research.google.com/github/Yun-Injung/Yun/blob/master/Double_Pendulum_Simulation1_18101620%EC%9C%A4%EC%9D%B8%EC%A0%95.ipynb\" target=\"_parent\"><img src=\"https://colab.research.google.com/assets/colab-badge.svg\" alt=\"Open In Colab\"/></a>"
      ]
    },
    {
      "cell_type": "code",
      "metadata": {
        "id": "Y-Va6cNMeBLy",
        "colab_type": "code",
        "outputId": "3f64ce27-e2a3-495f-ddbc-b731aeeee341",
        "colab": {
          "base_uri": "https://localhost:8080/",
          "height": 36
        }
      },
      "source": [
        "!pip install ffmpeg"
      ],
      "execution_count": 0,
      "outputs": [
        {
          "output_type": "stream",
          "text": [
            "Requirement already satisfied: ffmpeg in /usr/local/lib/python3.6/dist-packages (1.4)\n"
          ],
          "name": "stdout"
        }
      ]
    },
    {
      "cell_type": "code",
      "metadata": {
        "id": "oRhy0PPId2m1",
        "colab_type": "code",
        "outputId": "f409adbf-1582-4a13-c073-9edec79911ed",
        "colab": {
          "base_uri": "https://localhost:8080/",
          "height": 865
        }
      },
      "source": [
        "from __future__ import print_function   \n",
        "from scipy.integrate import odeint \n",
        "\n",
        "import time\n",
        "import math\n",
        "import numpy as np\n",
        "import pylab as py\n",
        "\n",
        "\n",
        "#import matplotlib.pyplot as plt\n",
        "\n",
        "from matplotlib import animation, rc\n",
        "from IPython.display import HTML\n",
        "from matplotlib import pyplot as plt\n",
        "\n",
        "\n",
        "m1 = 2                 # mass of pendulum 1 (in kg)\n",
        "m2 = 1                 # mass of pendulum 2 (in kg)\n",
        "L1 = 1.4                 # length of pendulum 1 (in meter)\n",
        "L2 = 1                 # length of pendulum 2 (in meter)\n",
        "g = 9.8                # gravitatioanl acceleration constant (m/s^2)\n",
        "\n",
        "u0 = [-np.pi/2.2, 0, np.pi/1.8, 0]    # initial conditions. \n",
        "# u[0] = angle of the first pendulum\n",
        "# u[1] = angular velocity of the first pendulum\n",
        "# u[2] = angle of the second pendulum\n",
        "# u[3] = angular velocity of the second pendulum\n",
        "\n",
        "tfinal = 25.0       # Final time. Simulation time = 0 to tfinal.\n",
        "Nt = 751\n",
        "t = np.linspace(0, tfinal, Nt)\n",
        "\n",
        "# Differential equations describing the system\n",
        "def double_pendulum(u,t,m1,m2,L1,L2,g):\n",
        "    # du = derivatives\n",
        "    # u = variables\n",
        "    # p = parameters\n",
        "    # t = time variable\n",
        "    \n",
        "    du = np.zeros(4)\n",
        "  \n",
        "    \n",
        "    c = np.cos(u[0]-u[2])  # intermediate variables\n",
        "    s = np.sin(u[0]-u[2])  # intermediate variables\n",
        "\n",
        "    \n",
        "    du[0] = u[1]   # d(theta 1)\n",
        "    du[1] = ( m2*g*np.sin(u[2])*c - m2*s*(L1*c*u[1]**2 + L2*u[3]**2) - (m1+m2)*g*np.sin(u[0]) ) /( L1 *(m1+m2*s**2) )\n",
        "    du[2] = u[3]   # d(theta 2)   \n",
        "    du[3] = ((m1+m2)*(L1*u[1]**2*s - g*np.sin(u[2]) + g*np.sin(u[0])*c) + m2*L2*u[3]**2*s*c) / (L2 * (m1 + m2*s**2))\n",
        "    \n",
        "    return du\n",
        "    \n",
        "\n",
        "\n",
        "\n",
        "sol = odeint(double_pendulum, u0, t, args=(m1,m2,L1,L2,g))\n",
        "\n",
        "\n",
        "#sol[:,0] = u1 = Θ_1\n",
        "#sol[:,1] = u2 = ω_1\n",
        "#sol[:,2] = u3 = Θ_2\n",
        "#sol[:,3] = u4 = ω_2\n",
        "u0 = sol[:,0]     # theta_1 \n",
        "u1 = sol[:,1]     # omega 1\n",
        "u2 = sol[:,2]     # theta_2 \n",
        "u3 = sol[:,3]     # omega_2 \n",
        "\n",
        "\n",
        "# Mapping from polar to Cartesian\n",
        "x1 = L1*np.sin(u0);          # First Pendulum\n",
        "y1 = -L1*np.cos(u0);\n",
        "\n",
        "x2 = x1 + L2*np.sin(u2);     # Second Pendulum\n",
        "y2 = y1 - L2*np.cos(u2);\n",
        "\n",
        "\n",
        "py.close('all')\n",
        "\n",
        "py.figure(1)\n",
        "#py.plot(t,x1)\n",
        "#py.plot(t,y1)\n",
        "py.plot(x1,y1,'.',color = '#0077BE',label = 'mass 1')\n",
        "py.plot(x2,y2,'.',color = '#f66338',label = 'mass 2' )\n",
        "py.legend()\n",
        "py.xlabel('x (m)')\n",
        "py.ylabel('y (m)')\n",
        "\n",
        "#py.figure(2)\n",
        "#py.plot(t,x2)\n",
        "#py.plot(t,y2)\n",
        "\n",
        "\n",
        "fig = plt.figure()\n",
        "ax = plt.axes(xlim=(-L1-L2-0.5, L1+L2+0.5), ylim=(-2.5, 1.5))\n",
        "#line, = ax.plot([], [], lw=2,,markersize = 9, markerfacecolor = \"#FDB813\",markeredgecolor =\"#FD7813\")\n",
        "line1, = ax.plot([], [], 'o-',color = '#d2eeff',markersize = 12, markerfacecolor = '#0077BE',lw=2, markevery=10000, markeredgecolor = 'k')   # line for Earth\n",
        "line2, = ax.plot([], [], 'o-',color = '#ffebd8',markersize = 12, markerfacecolor = '#f66338',lw=2, markevery=10000, markeredgecolor = 'k')   # line for Jupiter\n",
        "line3, = ax.plot([], [], color='k', linestyle='-', linewidth=2)\n",
        "line4, = ax.plot([], [], color='k', linestyle='-', linewidth=2)\n",
        "line5, = ax.plot([], [], 'o', color='k', markersize = 10)\n",
        "time_template = 'Time = %.1f s'\n",
        "time_string = ax.text(0.05, 0.9, '', transform=ax.transAxes)\n",
        "\n",
        "\n",
        "ax.get_xaxis().set_ticks([])    # enable this to hide x axis ticks\n",
        "ax.get_yaxis().set_ticks([])    # enable this to hide y axis ticks\n",
        "# initialization function: plot the background of each frame\n",
        "def init():\n",
        "    line1.set_data([], [])\n",
        "    line2.set_data([], [])\n",
        "    line3.set_data([], [])\n",
        "    line4.set_data([], [])\n",
        "    line5.set_data([], [])\n",
        "    time_string.set_text('')\n",
        "\n",
        "    \n",
        "    return  line3,line4, line5, line1, line2, time_string\n",
        "\n",
        "# animation function.  This is called sequentially\n",
        "def animate(i):\n",
        "    # Motion trail sizes. Defined in terms of indices. Length will vary with the time step, dt. E.g. 5 indices will span a lower distance if the time step is reduced.\n",
        "    trail1 = 6              # length of motion trail of weight 1 \n",
        "    trail2 = 8              # length of motion trail of weight 2\n",
        "    \n",
        "    dt = t[2]-t[1]          # time step\n",
        "    \n",
        "    line1.set_data(x1[i:max(1,i-trail1):-1], y1[i:max(1,i-trail1):-1])   # marker + line of first weight\n",
        "    line2.set_data(x2[i:max(1,i-trail2):-1], y2[i:max(1,i-trail2):-1])   # marker + line of the second weight\n",
        "    \n",
        "    line3.set_data([x1[i], x2[i]], [y1[i], y2[i]])       # line connecting weight 2 to weight 1\n",
        "    line4.set_data([x1[i], 0], [y1[i],0])                # line connecting origin to weight 1\n",
        "    \n",
        "    line5.set_data([0, 0], [0, 0])\n",
        "    time_string.set_text(time_template % (i*dt))\n",
        "    return  line3, line4,line5,line1, line2, time_string\n",
        "\n",
        "\n",
        "anim = animation.FuncAnimation(fig, animate, init_func=init,\n",
        "                               frames=Nt, interval=1000*(t[2]-t[1])*0.8, blit=True)\n",
        "\n",
        "\n",
        "# Comment out the following lines if you do not want to save the animation to file\n",
        "\n",
        "#anim.save('double_pendulum_animation.mp4', fps=30, extra_args=['-vcodec', 'libx264'])\n",
        "anim.save('double_pendulum_animation.gif', fps=1.0/(t[2]-t[1]), writer = 'matplotlib.animation.PillowWriter')"
      ],
      "execution_count": 0,
      "outputs": [
        {
          "output_type": "error",
          "ename": "TypeError",
          "evalue": "ignored",
          "traceback": [
            "\u001b[0;31m---------------------------------------------------------------------------\u001b[0m",
            "\u001b[0;31mTypeError\u001b[0m                                 Traceback (most recent call last)",
            "\u001b[0;32m<ipython-input-9-98e6c628442a>\u001b[0m in \u001b[0;36m<module>\u001b[0;34m()\u001b[0m\n\u001b[1;32m    144\u001b[0m \u001b[0;34m\u001b[0m\u001b[0m\n\u001b[1;32m    145\u001b[0m \u001b[0;31m#anim.save('double_pendulum_animation.mp4', fps=30, extra_args=['-vcodec', 'libx264'])\u001b[0m\u001b[0;34m\u001b[0m\u001b[0;34m\u001b[0m\u001b[0;34m\u001b[0m\u001b[0m\n\u001b[0;32m--> 146\u001b[0;31m \u001b[0manim\u001b[0m\u001b[0;34m.\u001b[0m\u001b[0msave\u001b[0m\u001b[0;34m(\u001b[0m\u001b[0;34m'double_pendulum_animation.gif'\u001b[0m\u001b[0;34m,\u001b[0m \u001b[0mfps\u001b[0m\u001b[0;34m=\u001b[0m\u001b[0;36m1.0\u001b[0m\u001b[0;34m/\u001b[0m\u001b[0;34m(\u001b[0m\u001b[0mt\u001b[0m\u001b[0;34m[\u001b[0m\u001b[0;36m2\u001b[0m\u001b[0;34m]\u001b[0m\u001b[0;34m-\u001b[0m\u001b[0mt\u001b[0m\u001b[0;34m[\u001b[0m\u001b[0;36m1\u001b[0m\u001b[0;34m]\u001b[0m\u001b[0;34m)\u001b[0m\u001b[0;34m,\u001b[0m \u001b[0mwriter\u001b[0m \u001b[0;34m=\u001b[0m \u001b[0;34m'matplotlib.animation.PillowWriter'\u001b[0m\u001b[0;34m)\u001b[0m\u001b[0;34m\u001b[0m\u001b[0;34m\u001b[0m\u001b[0m\n\u001b[0m",
            "\u001b[0;32m/usr/local/lib/python3.6/dist-packages/matplotlib/animation.py\u001b[0m in \u001b[0;36msave\u001b[0;34m(self, filename, writer, fps, dpi, codec, bitrate, extra_args, metadata, extra_anim, savefig_kwargs, progress_callback)\u001b[0m\n\u001b[1;32m   1100\u001b[0m                                          metadata=metadata)\n\u001b[1;32m   1101\u001b[0m             \u001b[0;32melse\u001b[0m\u001b[0;34m:\u001b[0m\u001b[0;34m\u001b[0m\u001b[0;34m\u001b[0m\u001b[0m\n\u001b[0;32m-> 1102\u001b[0;31m                 \u001b[0malt_writer\u001b[0m \u001b[0;34m=\u001b[0m \u001b[0mnext\u001b[0m\u001b[0;34m(\u001b[0m\u001b[0mwriters\u001b[0m\u001b[0;34m,\u001b[0m \u001b[0;32mNone\u001b[0m\u001b[0;34m)\u001b[0m\u001b[0;34m\u001b[0m\u001b[0;34m\u001b[0m\u001b[0m\n\u001b[0m\u001b[1;32m   1103\u001b[0m                 \u001b[0;32mif\u001b[0m \u001b[0malt_writer\u001b[0m \u001b[0;32mis\u001b[0m \u001b[0;32mNone\u001b[0m\u001b[0;34m:\u001b[0m\u001b[0;34m\u001b[0m\u001b[0;34m\u001b[0m\u001b[0m\n\u001b[1;32m   1104\u001b[0m                     raise ValueError(\"Cannot save animation: no writers are \"\n",
            "\u001b[0;31mTypeError\u001b[0m: 'MovieWriterRegistry' object is not an iterator"
          ]
        },
        {
          "output_type": "display_data",
          "data": {
            "image/png": "[encoded data removed]",
            "text/plain": [
              "<Figure size 432x288 with 1 Axes>"
            ]
          },
          "metadata": {
            "tags": [],
            "needs_background": "light"
          }
        },
        {
          "output_type": "display_data",
          "data": {
            "image/png": "[encoded data removed]",
            "text/plain": [
              "<Figure size 432x288 with 1 Axes>"
            ]
          },
          "metadata": {
            "tags": []
          }
        }
      ]
    },
    {
      "cell_type": "code",
      "metadata": {
        "id": "R4a8QtRzd4bE",
        "colab_type": "code",
        "colab": {}
      },
      "source": [
        ""
      ],
      "execution_count": 0,
      "outputs": []
    }
  ]
}