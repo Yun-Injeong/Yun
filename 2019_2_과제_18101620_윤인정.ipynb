{
  "nbformat": 4,
  "nbformat_minor": 0,
  "metadata": {
    "colab": {
      "name": "2019_2_과제_18101620_윤인정",
      "provenance": [],
      "collapsed_sections": [],
      "include_colab_link": true
    },
    "kernelspec": {
      "name": "python3",
      "display_name": "Python 3"
    }
  },
  "cells": [
    {
      "cell_type": "markdown",
      "metadata": {
        "id": "view-in-github",
        "colab_type": "text"
      },
      "source": [
        "<a href=\"https://colab.research.google.com/github/Yun-Injeong/Yun/blob/master/2019_2_%EA%B3%BC%EC%A0%9C_18101620_%EC%9C%A4%EC%9D%B8%EC%A0%95.ipynb\" target=\"_parent\"><img src=\"https://colab.research.google.com/assets/colab-badge.svg\" alt=\"Open In Colab\"/></a>"
      ]
    },
    {
      "cell_type": "markdown",
      "metadata": {
        "id": "Joz0plQ2ULST",
        "colab_type": "text"
      },
      "source": [
        "## 2019 2학기 기말과제\n",
        "#### 18101620 윤인정\\\\\n",
        "\\ \n",
        "\\\n",
        "###1. 라플라스 방정식\n",
        ">$\\begin{align*}\n",
        " u_{rr} +\\frac{2}{r} u_r &+\\frac{1}{r^2}u_{\\phi\\phi} +\\frac{\\cot\\phi}{r^2} u_{\\phi} +\\frac{1}{r^2\\sin^2\\phi}u_{\\theta\\theta} = 0, \\;\\; r < R \\\\ \n",
        " u(R,\\phi,\\theta) &= g(\\phi,\\theta)\\\\ \n",
        "\\end{align*}$\n",
        "\n",
        "in a sphere of radius $R$. (a) Solve this problem by separation of variables, (b) derive $K(r,\\phi,\\theta; R,\\varphi,\\vartheta)$ in the equivalent integral formula:\n",
        "\n",
        ">$\\displaystyle u(r,\\phi,\\theta) = \\int_0^{2\\pi} \\int_0^\\pi K(r,\\phi,\\theta; R,\\varphi,\\vartheta)\\, g(\\varphi,\\vartheta) \\sin\\varphi \\,d\\varphi \\, d\\vartheta$\n",
        "\n",
        "#### a) 변수분리\n",
        ">$\\begin{align*}\n",
        "\\ \\nabla^2u(r, \\phi, \\theta)=R(r)\\Phi(\\phi)\\Theta(\\theta)\\\\\n",
        "\\end{align*}$\n",
        "##### 이를 주어진 방정식에 넣으면\n",
        ">$\\begin{align*}\n",
        "\\ \\Phi\\Theta\\frac{\\partial}{\\partial r}(\\frac{\\partial R}{\\partial r})+2\\Phi\\Theta\\frac{\\partial R}{\\partial r}+\\frac{R\\Theta cot\\phi}{r^2}\\frac{\\partial \\Phi}{\\partial \\phi}+\\frac{R\\Theta}{r^2}\\frac{\\partial}{\\partial \\phi}(\\frac {\\partial \\Phi}{\\partial \\phi})+\\frac{R\\Phi}{r^2sin^2\\phi}\\frac{\\partial}{\\partial \\theta}(\\frac{\\partial \\Theta}{\\partial \\theta})=0\\\\\n",
        "\\end{align*}$\n",
        "##### 여기에 \n",
        ">$\\begin{align*}\n",
        "\\ \\frac{r^2sin^2\\phi}{R\\Phi\\Theta}를 곱하면\n",
        "\\end{align*}$\n",
        ">$\\begin{align*}\n",
        "\\ \\frac{r^2sin^2\\phi}{R}\\frac{\\partial}{\\partial r}(\\frac{\\partial R}{\\partial r})+\\frac{2rsin^2\\phi}{R}+\\frac{sin^2\\phi}{\\Phi}\\frac{\\partial\\Phi}{\\partial \\phi}+\\frac{sin^2\\phi}{\\Phi}\\frac{\\partial}{\\partial \\phi}(\\frac{\\partial\\Phi}{\\partial\\phi})+\\frac{1}{\\Theta}\\frac{\\partial}{\\partial \\theta}(\\frac{\\partial \\Theta}{\\partial\\theta})=0\n",
        "\\end{align*}$\n",
        "##### 마지막항은 θ외에는 영향을 받지 않는다. 따라서 상수이다\n",
        ">$\\begin{align*}\n",
        "\\ \\frac{1}{\\Theta}\\frac{\\partial}{\\partial \\theta}(\\frac{\\partial \\Theta}{\\partial\\theta})=M<-m\\\\\n",
        "\\ \\frac{\\partial}{\\partial \\theta}(\\frac {\\partial \\Theta}{\\partial \\theta})-M\\Theta=0(M은 음의 상수)\\\\\n",
        "\\end{align*}$\n",
        "##### 고유값을 m으로 두면\n",
        ">$\\begin{align*}\n",
        "\\ \\frac{\\partial^2 \\Phi}{\\partial \\phi^2}+m^2\\Phi=0\\\\\n",
        "\\ \\Phi= sinm\\phi, cosm\\phi\n",
        "\\end{align*}$\n",
        "##### R에 대해 변수분리하면\n",
        ">$\\begin{align*}\n",
        "\\ \\frac{r^2sin^2\\phi}{R}\\frac{\\partial}{\\partial r}(\\frac{\\partial R}{\\partial r})+\\frac{2rsin^2\\phi}{R}+\\frac{sin^2\\phi}{\\Phi}\\frac{\\partial\\Phi}{\\partial \\phi}+\\frac{sin^2\\phi}{\\Phi}\\frac{\\partial}{\\partial \\phi}(\\frac{\\partial\\Phi}{\\partial\\phi})-m^2=0\\\\\n",
        "\\ 양변에 \\frac{1}{sin^2\\theta}를 곱하면\\\\\n",
        "\\ \\frac{r^2}{R}\\frac{\\partial}{\\partial r}(\\frac{\\partial R}{\\partial r})+\\frac{2r}{R}+ \\frac{1}{\\Phi}\\frac{\\partial \\Phi}{\\partial \\phi}+\\frac{1}{\\Phi}\\frac{\\partial}{\\partial \\phi}(\\frac{\\partial \\Phi}{\\partial \\phi})-\\frac{m^2}{sin^2\\theta}=0\\\\\n",
        "\\ \\frac{r^2}{R}\\frac{\\partial}{\\partial r}(\\frac{\\partial R}{\\partial r})+\\frac {2r}{R}도 r에만 영향을 받으므로 상수이다.\\\\\n",
        "\\ 이 상수를 l(l+1)로 두면\\\\\n",
        "\\ r^2R''-l(l+1)R+2R=0\\\\\n",
        "\\ 이 식의 고유함수는 아래와 같다\n",
        "\\end{align*}$"
      ]
    },
    {
      "cell_type": "code",
      "metadata": {
        "id": "UCq6CrMn2D-N",
        "colab_type": "code",
        "outputId": "64285bf0-5162-4ca1-9f04-0407e3d0b601",
        "colab": {
          "base_uri": "https://localhost:8080/",
          "height": 56
        }
      },
      "source": [
        "from sympy import *\n",
        "r = symbols('r')\n",
        "l = symbols('l')\n",
        "R = symbols('R', cls=Function)\n",
        "deq = Eq(r**2*R(r).diff(r,2)-l*(l+1)*R(r)+2*R(r))\n",
        "sol=dsolve(deq)\n",
        "sol"
      ],
      "execution_count": 0,
      "outputs": [
        {
          "output_type": "execute_result",
          "data": {
            "text/plain": [
              "Eq(R(r), r**(-(16*(2*re(l) + 1)**2*im(l)**2 + (4*re(l)**2 + 4*re(l) - 4*im(l)**2 - 7)**2)**(1/4)*cos(atan2(4*(2*re(l) + 1)*im(l), 4*re(l)**2 + 4*re(l) - 4*im(l)**2 - 7)/2)/2 + 1/2)*(C1*sin((16*(2*re(l) + 1)**2*im(l)**2 + (4*re(l)**2 + 4*re(l) - 4*im(l)**2 - 7)**2)**(1/4)*log(r)*Abs(sin(atan2(4*(2*re(l) + 1)*im(l), 4*re(l)**2 + 4*re(l) - 4*im(l)**2 - 7)/2))/2) + C2*cos((16*(2*re(l) + 1)**2*im(l)**2 + (4*re(l)**2 + 4*re(l) - 4*im(l)**2 - 7)**2)**(1/4)*log(r)*sin(atan2(4*(2*re(l) + 1)*im(l), 4*re(l)**2 + 4*re(l) - 4*im(l)**2 - 7)/2)/2)) + r**((16*(2*re(l) + 1)**2*im(l)**2 + (4*re(l)**2 + 4*re(l) - 4*im(l)**2 - 7)**2)**(1/4)*cos(atan2(4*(2*re(l) + 1)*im(l), 4*re(l)**2 + 4*re(l) - 4*im(l)**2 - 7)/2)/2 + 1/2)*(C3*sin((16*(2*re(l) + 1)**2*im(l)**2 + (4*re(l)**2 + 4*re(l) - 4*im(l)**2 - 7)**2)**(1/4)*log(r)*Abs(sin(atan2(4*(2*re(l) + 1)*im(l), 4*re(l)**2 + 4*re(l) - 4*im(l)**2 - 7)/2))/2) + C4*cos((16*(2*re(l) + 1)**2*im(l)**2 + (4*re(l)**2 + 4*re(l) - 4*im(l)**2 - 7)**2)**(1/4)*log(r)*sin(atan2(4*(2*re(l) + 1)*im(l), 4*re(l)**2 + 4*re(l) - 4*im(l)**2 - 7)/2)/2)))"
            ]
          },
          "metadata": {
            "tags": []
          },
          "execution_count": 58
        }
      ]
    },
    {
      "cell_type": "markdown",
      "metadata": {
        "id": "WjbgBK7b3WoG",
        "colab_type": "text"
      },
      "source": [
        ">$\\begin{align*}\n",
        "따라서\n",
        "\\ l(l+1)+\\frac{sin^2\\phi}{\\Phi}\\frac{\\partial}{\\partial \\phi}(\\frac{\\partial\\Phi}{\\partial\\phi})-m^2=0\\\\\n",
        "\\end{align*}$\n",
        ">$\\begin{align*}\n",
        "\\ \\frac{sin^2\\phi}{\\Phi}\\frac{\\partial}{\\partial\\Phi}\\frac{\\partial\\Phi}{\\partial\\phi}+l(l+1)-m^2=0\\\\\n",
        "\\ \\mu=cos\\phi로 놓으면\\\\\n",
        " \\ 연쇄법칙에 의해 \\frac{\\partial F}{\\partial phi}=\\frac{\\partial F}{\\partial \\mu}\\frac{\\partial \\mu}{\\partial \\phi}=-sin\\phi\\frac{\\partial F}{\\partial \\mu} (F는 \\phi에 관한 함수)\\\\\n",
        "\\ 연쇄법칙에 따라\\\\\n",
        "\\ -sin\\phi \\frac{\\partial}{\\partial \\mu}(-sin^2\\phi\\frac{\\partial \\Phi}{\\partial \\mu})+[l(l+1)-m^2]\\Phi sin\\theta=0\\\\\n",
        "\\ \\frac{\\partial}{\\partial \\mu}[(1-cos^2\\phi)\\frac{\\partial \\Theta}{\\partial \\mu}]+[l(l+1)-\\frac{m^2}{1-\\mu^2}]\\Phi=0\n",
        "이 이차 상미분 방정식의 해는\n",
        "\\ \\Phi= P^m_l(\\mu)=P^m_l(cos\\phi),\\\\\n",
        "\\ Q^m_l(\\mu)=Q^m_l(cos\\phi)로 알려져있다\\\\\n",
        "\\ 따라서 u(r, \\phi, \\theta)는 위에서 구한 R(r)\\Phi(\\phi)\\Theta(\\theta)를 곱한것이다.\\\\\n",
        "\\end{align*}$"
      ]
    },
    {
      "cell_type": "markdown",
      "metadata": {
        "id": "UwOknGSM6ERK",
        "colab_type": "text"
      },
      "source": [
        "### 2. 푸아송 방정식\n",
        ">$\\begin{align*}\n",
        " u_{rr} +\\frac{2}{r} u_r &+\\frac{1}{r^2}u_{\\phi\\phi} +\\frac{\\cot\\phi}{r^2} u_{\\phi} +\\frac{1}{r^2\\sin^2\\phi}u_{\\theta\\theta} = -F(r,\\phi,\\theta), \\;\\; r < R \\\\ \n",
        " u(R,\\phi,\\theta) &= 0\\\\ \n",
        "\\end{align*}$\n",
        "##### a) 푸리에 변환\n",
        "1. 푸리에 변환 f(x) [0,L]에서\n",
        "\n",
        " >$\\begin{align*}\n",
        " \\ 푸리에 변환\\\\\n",
        " \\mathcal{F}_s[f]&=\\frac{2}{L} \\int_0^L f(x)\\,\\sin\\frac{n\\pi x}{L} \\,dx =b_n &\\;\\;\\;\\text{Finite Sine Transform} \\\\ \n",
        " \\mathcal{F}_c[f]&=\\frac{2}{L} \\int_0^L f(x)\\,\\cos\\frac{n\\pi x}{L} \\,dx =a_n &\\;\\;\\;\\text{Finite Cosine Transform}\n",
        "\\end{align*}$\n",
        "\n",
        " >$\\begin{align*}\n",
        " \\ 푸리에 역변환\n",
        " f(x) &=\\sum_{n=1}^{\\infty} b_n \\sin\\frac{n\\pi x}{L} &\\;\\;\\;\\text{Inverse Sine Transform} \\\\ \n",
        " f(x) &= \\frac{a_0}{2} +\\sum_{n=1}^\\infty a_n \\cos \\frac{n\\pi x}{L} &\\;\\;\\;\\text{Inverse Cosine Transform}\n",
        "\\end{align*}$\n",
        "##### 구 좌표계에서\n",
        ">$\\begin{align*}\n",
        "\\ u(r,\\phi,\\theta)=R(r)\\Omega(\\phi,\\theta)\\\\\n",
        "\\ \\Omega(\\phi,\\theta)=Y_{lm}(\\phi, \\theta)\n",
        "\\ j_l(x)= (\\frac{\\phi}{2x})^{-1/2}J_{l+\\frac{1}{2}}(x)\\\\\n",
        "\\end{align*}$\n",
        "\\ 위 식은 다음의 직교 관계를 충족한다\\\\\n",
        "\n",
        ">$\\displaystyle \\int_0^{\\infty}j_l(k_1r)j_l(k_2r)r^2dr=\\frac{\\pi}{2k^2_1}\\delta(k_1-k_2)$\n",
        ">$\\begin{align*}\n",
        "\\Phi_{k,l,m}(r, \\phi,\\theta)=(\\frac{2}{\\pi})^{1/2}kj_l(kr)Y_lm(\\phi,\\theta)\\\\\n",
        "\\ [0,1]에서\\\\\n",
        "\\end{align*}$\n",
        "$\\displaystyle \\int_0^{\\infty}j_l(k_1r)j_l(k_2r)r^2dr=\\frac{a^2}{k_1^2-k_2^2}[k_2j_l(k_1a)j'_l(k_2a)-k_1j_l(k_2a)j']_l(k_1a)]$\n",
        "경계에서\n",
        ">$\\begin{align*}\n",
        "\\ R(r)cos\\beta-a^2R'(a)sin\\beta=0, \n",
        "\\ beta:[0, 2\\pi]\\\\\n",
        "\\ R(r)=j_l(kr)\\\\\n",
        "\\ j_l(ka)cos\\beta-(ka)j'_l(ka)asin\\beta=0\\\\\n",
        "\\ k_{nl}=\\frac{x_{ln}}{a}\\\\\n",
        "\\ 따라서 n번째 고유함수는 j_l(k_{nl}r)\\\\\n",
        "\\ 직교 고유함수는\n",
        "\\end{align*}$\n",
        "$\\displaystyle \\int_0^{a}j_l(k_{nl}r)j_l(k_{n'l})r^2dr=N_n^{(l)}\\delta_{nn'}$\n",
        ">$\\begin{align*}\n",
        "\\ N_n^{(l)}=\\frac{a^3}{2}[j'^2_l(x_{ln})+\\frac{1}{x_{ln}}j_l(x_{ln})j'_l(x_{ln})+[1-\\frac{l(l+1)}{x^2_{ln}}]j^2_l(x_{ln})]\\\\\n",
        "\\ zero value boundary condition: N_n^{(l)}=\\frac {a^3}{2}j^2_{l+1}(x_{ln})\\\\\n",
        "\\end{align*}$\n",
        "$\\begin{align*}\n",
        "\\ N_n^{(l)}=\\frac {a^3}{2}[1-\\frac{l(l+1)}{x^2_{ln}}]j^2_{l}(x_{ln})\\\\\n",
        "\\ R_{nl}(r)=\\frac{1}{(N_n^{l})^{1/2}}j_l(k_{nl}r)\\\\\n",
        "\\ u_{nlm}(r,\\phi,\\theta)=R_{nl}(r)Y_{lm}(\\phi,\\theta)\\\\\n",
        "\\ u(r,\\phi,\\theta)=∑^∞_{n=1} ∑^∞_{l=0}∑^l_{m=-l}S_{nlm}\\Phi_{nlm}(r,\\phi,\\theta)\\\\\n",
        "\\end{align*}$\n",
        "$\\displaystyle S_{nlm}=\\int_0^{a}\\int_0^{\\pi}\\int_0^{2\\pi}u\\Phi^*_{nlm}(r,\\phi,\\theta)r^2sin\\phi dr d\\phi d\\theta $\n",
        "### sphere에서 푸아송 방정식의 3차원 그린함수\n",
        "$\\begin{align*}\n",
        "\\ G(r,r')=-\\frac{1}{4\\pi(r^2-2rr'cos\\gamma-r]^2)^{1/2}}\\\\\n",
        "\\ cos\\gamma=cos\\theta cos\\theta'+sin\\theta sin\\theta'cos(\\phi-\\phi')\\\\\n",
        "\\ G(r,r')=-\\frac{1}{4\\pi r'}∑^∞_0(\\frac{r'}{r})^{l}P_l(cos\\gamma)\\\\\n",
        "\\ G(r,r')=∑^∞_{ㅣ=0}∑^{m=l}_{m=-l}\\frac{q}{2l+1}(\\frac{r^l}{r^{l+1}})Y_{l,m}(\\theta', \\phi')Y_{l,m}(\\theta,\\phi)\\\\\n",
        "\\phi(r)=\\frac{1}{ε_0}∑^∞_{l=0}∑^{m=l}_{m=-l}\\frac{1}{2l+1}[r^lP_{l,m}(r)+\\frac{q_{l,m}(r)}{r^{l+1}}]Y_{l,m}(\\theta,\\phi)\\\\\n",
        "\\ P_{l,m}(r)=∫^∞_r∮\\frac{r}{r'^{l+1}}p(r',\\theta,\\phi)Y_{l,m}(\\theta,\\phi)ρ'^2d\\Omega dr'\\\\\n",
        "\\ q_l,m(r)=∫^∞_0∮r'^lp(r',\\theta,\\phi)Y_{l,m}(\\theta, \\phi)ρ'^2d\\Omega dr'\\\\\n",
        "\\end{align*}$\n",
        "##### Reference: 2019 공학수학 수업자료, 나무위키, \n",
        "##### Fourier Analysis in Polar and Spherical(Qing Wang, Olaf Ronneberger, Hans Burkhardt)"
      ]
    }
  ]
}