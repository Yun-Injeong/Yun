{
  "nbformat": 4,
  "nbformat_minor": 0,
  "metadata": {
    "colab": {
      "name": "Untitled4.ipynb",
      "provenance": [],
      "authorship_tag": "ABX9TyNXDlru+SKo+nRNTdKKzuIC",
      "include_colab_link": true
    },
    "kernelspec": {
      "name": "python3",
      "display_name": "Python 3"
    }
  },
  "cells": [
    {
      "cell_type": "markdown",
      "metadata": {
        "id": "view-in-github",
        "colab_type": "text"
      },
      "source": [
        "<a href=\"https://colab.research.google.com/github/Yun-Injung/Yun/blob/master/Untitled4.ipynb\" target=\"_parent\"><img src=\"https://colab.research.google.com/assets/colab-badge.svg\" alt=\"Open In Colab\"/></a>"
      ]
    },
    {
      "cell_type": "code",
      "metadata": {
        "id": "D2ZBYDDmbT1f",
        "colab_type": "code",
        "outputId": "e1716860-510f-4a20-8236-d440c8ac7ac0",
        "colab": {
          "base_uri": "https://localhost:8080/",
          "height": 55
        }
      },
      "source": [
        "!pip install pygame \n",
        "\n",
        "import os\n",
        "os.environ['SDL_VIDEODRIVER']='dummy'\n",
        "import pygame\n",
        "pygame.display.set_mode((640,480))"
      ],
      "execution_count": 0,
      "outputs": [
        {
          "output_type": "stream",
          "text": [
            "Requirement already satisfied: pygame in /usr/local/lib/python3.6/dist-packages (1.9.6)\n"
          ],
          "name": "stdout"
        },
        {
          "output_type": "execute_result",
          "data": {
            "text/plain": [
              "<Surface(640x480x8 SW)>"
            ]
          },
          "metadata": {
            "tags": []
          },
          "execution_count": 3
        }
      ]
    },
    {
      "cell_type": "code",
      "metadata": {
        "id": "yqCyJYssbPUf",
        "colab_type": "code",
        "colab": {}
      },
      "source": [
        "import numpy as np\n",
        "from numpy import sin, cos\n",
        "import scipy.integrate\n",
        "import pygame\n",
        "\n",
        "class Point(object):\n",
        "\tdef __init__(self, x, y):\n",
        "\t\tself.x = x\n",
        "\t\tself.y = y\n",
        "\n",
        "\tdef translate(self, dx, dy):\n",
        "\t\tself.x = self.x + dx\n",
        "\t\tself.y = self.y + dy\n",
        "\n",
        "\t\treturn self\n",
        "\n",
        "\tdef scale(self, fx, fy):\n",
        "\t\tself.x = self.x * fx\n",
        "\t\tself.y = self.y * fy\n",
        "\n",
        "\t\treturn self\n",
        "\n",
        "\tdef round(self):\n",
        "\t\tself.x = int(self.x)\n",
        "\t\tself.y = int(self.y)\n",
        "\n",
        "\t\treturn self\n",
        "\n",
        "\tdef to_tuple(self):\n",
        "\t\treturn (self.x, self.y)\n",
        "\n",
        "\tdef __repr__(self):\n",
        "\t\treturn \"{0}, {1}\".format(self.x, self.y)\n",
        "\n",
        "## Parameters of the double pendulum\n",
        "\n",
        "# Length, in meters, of the two rods\n",
        "l1 = l2 = 0.3\n",
        "# Masses, in kilograms, of the two spheres\n",
        "m1 = 0.5\n",
        "m2 = 0.5\n",
        "# Gravitational constant\n",
        "g = 9.81\n",
        "\n",
        "def pendulum_ODE_system(t, w):\n",
        "\t\"\"\"\n",
        "\tDefines the differential equations for the double pendulum system\n",
        "\t\n",
        "\tReference for the differential equations:\n",
        "\thttps://www.myphysicslab.com/pendulum/double-pendulum-en.html\n",
        "\t\n",
        "\tArguments:\n",
        "\t\tt : time\n",
        "\t\tw :  vector of the state variables:\n",
        "\t\t\tw = [y1, y2, y3, y4]\n",
        "\t\"\"\"\n",
        "\n",
        "\ty1, y2, y3, y4 = w\n",
        "\n",
        "\tf = [y2,\n",
        "\t\t(-g*(2*m1+m2)*sin(y1) - m2*g*sin(y1 - 2*y3) - 2*sin(y1-y3)*m2*(y4**2*l2+y1**2*l1*cos(y1-y3)))/(l1*(2*m1 + m2 - m2*cos(2*y1 - 2*y3))),\n",
        "\t\ty4,\n",
        "\t\t(2*sin(y1-y3)*(y2**2*l1*(m1+m2)+g*(m1+m2)*cos(y1)+y4**2*l2*m2*cos(y1-y3)))/(l2*(2*m1+m2-m2*cos(2*y1-2*y3)))]\n",
        "\n",
        "\treturn f\n",
        "\n",
        "## Initial conditions\n",
        "# y1: angle (rad), first pendulum\n",
        "# y2: angular velocity (rad/s), first pendulum\n",
        "# y3: angle (rad), second pendulum\n",
        "# y4: angular velocity (rad/s), second pendulum\n",
        "# t0: initial time (in seconds)\n",
        "y1_0 = np.radians(45)\n",
        "y2_0 = 2\n",
        "y3_0 = np.radians(0)\n",
        "y4_0 = 0\n",
        "t0 = 0\n",
        "\n",
        "initial_conditions = [y1_0, y2_0, y3_0, y4_0]\n",
        "\n",
        "## PyGame\n",
        "\n",
        "pygame.init()\n",
        "\n",
        "WIDTH = 1200\n",
        "HEIGHT = 800\n",
        "CENTER = Point(WIDTH / 2, 20).round()\n",
        "\n",
        "WHITE = (255, 255, 255)\n",
        "BLACK = (0, 0, 0)\n",
        "GREEN = (0, 255, 0)\n",
        "BLUE = (0, 0, 255)\n",
        "\n",
        "size = (WIDTH, HEIGHT)\n",
        "screen = pygame.display.set_mode(size)\n",
        "clock = pygame.time.Clock()\n",
        "\n",
        "last_solution = initial_conditions\n",
        "last_time = t0\n",
        "\n",
        "TRACING = True\n",
        "TRACING_MODE = \"lines\" # \"lines\" or \"dots\"\n",
        "TRACING_MAX_DOTS = np.inf\n",
        "pendulum_2_position_history = []\n",
        "\n",
        "i = 0\n",
        "\n",
        "while True:\n",
        "\tfor event in pygame.event.get():\n",
        "\t\tif event.type == pygame.QUIT:\n",
        "\t\t\tpygame.display.quit()\n",
        "\t\t\tsys.exit()\n",
        "\n",
        "\t# dt: the time (ms) since the last frame\n",
        "\t# We divide by 1000 to get seconds\n",
        "\tdt = clock.tick(50) / 1000\n",
        "\n",
        "\tnew_solution = scipy.integrate.solve_ivp(pendulum_ODE_system, (last_time, last_time + dt), last_solution)\n",
        "\n",
        "\tindex = len(new_solution.t) - 1\n",
        "\ty1 = new_solution.y[0, index]\n",
        "\ty2 = new_solution.y[1, index]\n",
        "\ty3 = new_solution.y[2, index]\n",
        "\ty4 = new_solution.y[3, index]\n",
        "\n",
        "\tlast_solution = new_solution.y[:, index]\n",
        "\tlast_time = new_solution.t.max()\n",
        "\n",
        "\tpendulum_1 = Point(l1 * sin(y1), - l1 * cos(y1))\n",
        "\tpendulum_2 = Point(pendulum_1.x + l2 * sin(y3), pendulum_1.y - l2 * cos(y3))\n",
        "\n",
        "\tpendulum_1.scale(1000, -1000).translate(WIDTH / 2, CENTER.y).round()\n",
        "\tpendulum_2.scale(1000, -1000).translate(WIDTH / 2, CENTER.y).round()\n",
        "\n",
        "\tscreen.fill(WHITE)\n",
        "\n",
        "\tif TRACING:\n",
        "\t\tif TRACING_MODE == \"lines\":\n",
        "\t\t\tpendulum_2_position_history.append(pendulum_2)\n",
        "\n",
        "\t\t\tfor idx, position in enumerate(pendulum_2_position_history):\n",
        "\t\t\t\tif idx > 0:\n",
        "\t\t\t\t\tprevious_point = pendulum_2_position_history[idx - 1]\n",
        "\t\t\t\t\tpygame.draw.aaline(screen, BLUE, previous_point.to_tuple(), position.to_tuple(), 5)\n",
        "\t\telse:\n",
        "\t\t\tif i < TRACING_MAX_DOTS:\n",
        "\t\t\t\tpendulum_2_position_history.append(pendulum_2)\n",
        "\t\t\telse:\n",
        "\t\t\t\tpendulum_2_position_history[i % TRACING_MAX_DOTS] = pendulum_2\n",
        "\n",
        "\t\t\ti = i + 1\n",
        "\n",
        "\t\t\tfor position in pendulum_2_position_history:\n",
        "\t\t\t\tpygame.draw.circle(screen, BLUE, position.to_tuple(), 4)\n",
        "\n",
        "\tpygame.draw.aaline(screen, BLACK, CENTER.to_tuple(), pendulum_1.to_tuple(), 5)\n",
        "\tpygame.draw.aaline(screen, BLACK, pendulum_1.to_tuple(), pendulum_2.to_tuple(), 5)\n",
        "\tpygame.draw.circle(screen, BLACK, CENTER.to_tuple(), 15)\n",
        "\tpygame.draw.circle(screen, GREEN, pendulum_1.to_tuple(), 15)\n",
        "\tpygame.draw.circle(screen, BLUE, pendulum_2.to_tuple(), 15)\n",
        "\n",
        "\tpygame.display.flip()"
      ],
      "execution_count": 0,
      "outputs": []
    },
    {
      "cell_type": "code",
      "metadata": {
        "id": "SnfmHktfbZ-j",
        "colab_type": "code",
        "colab": {}
      },
      "source": [
        ""
      ],
      "execution_count": 0,
      "outputs": []
    }
  ]
}